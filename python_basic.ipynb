{
 "cells": [
  {
   "cell_type": "code",
   "execution_count": 3,
   "id": "7c0711ea-4819-40b0-a589-13cf379d462f",
   "metadata": {},
   "outputs": [
    {
     "data": {
      "text/plain": [
       "[2, 4, 6, 8]"
      ]
     },
     "execution_count": 3,
     "metadata": {},
     "output_type": "execute_result"
    }
   ],
   "source": [
    "lst=[1,2,3,4,5,6,7,8]\n",
    "list(filter(lambda x:x%2==0,lst))"
   ]
  },
  {
   "cell_type": "code",
   "execution_count": 4,
   "id": "a721f9be-91ad-4dba-8e4b-9daba2e4897b",
   "metadata": {},
   "outputs": [
    {
     "data": {
      "text/plain": [
       "[False, True, False, True, False, True, False, True]"
      ]
     },
     "execution_count": 4,
     "metadata": {},
     "output_type": "execute_result"
    }
   ],
   "source": [
    "list(map(lambda x:x%2==0,lst))"
   ]
  },
  {
   "cell_type": "code",
   "execution_count": 7,
   "id": "de0737f2-3008-4502-a63f-cacb19834093",
   "metadata": {},
   "outputs": [
    {
     "data": {
      "text/plain": [
       "[4, 4, 4, 4]"
      ]
     },
     "execution_count": 7,
     "metadata": {},
     "output_type": "execute_result"
    }
   ],
   "source": [
    "lst=[2,3,4,3,2,3,4,4,3,2,4]\n",
    "list(filter(lambda x:x==4,lst))"
   ]
  },
  {
   "cell_type": "code",
   "execution_count": 8,
   "id": "2c96d9cf-c841-4a06-be42-9332c76d0738",
   "metadata": {},
   "outputs": [
    {
     "data": {
      "text/plain": [
       "[2, 3, 4, 3, 2, 3, 4, 4, 3, 2, 4]"
      ]
     },
     "execution_count": 8,
     "metadata": {},
     "output_type": "execute_result"
    }
   ],
   "source": [
    "lst"
   ]
  },
  {
   "cell_type": "code",
   "execution_count": 1,
   "id": "639ffde8-5616-4a06-9128-012340b99ca3",
   "metadata": {},
   "outputs": [],
   "source": [
    "class Solution(object):\n",
    "    def queryResults(self, limit, queries):\n",
    "        \"\"\"\n",
    "        :type limit: int\n",
    "        :type queries: List[List[int]]\n",
    "        :rtype: List[int]\n",
    "        \"\"\"\n",
    "        n=len(queries)\n",
    "        ans=[]\n",
    "        ball={}\n",
    "        color={}\n",
    "        for i in range(n):\n",
    "            a,b=queries[i]\n",
    "            if a in ball:\n",
    "                col=ball[a]\n",
    "                ball[a]=b\n",
    "                if color[col]>1:\n",
    "                    color[col]-=1\n",
    "                else:\n",
    "                    del color[col]\n",
    "            else:\n",
    "                ball[a]=b\n",
    "            color[b]+=1\n",
    "            ans.append(len(color))\n",
    "                    "
   ]
  },
  {
   "cell_type": "code",
   "execution_count": 3,
   "id": "ec04c7bc-1a0e-4c9b-8e78-8a2a262906fe",
   "metadata": {},
   "outputs": [
    {
     "name": "stdout",
     "output_type": "stream",
     "text": [
      "[0, 1, 4, 9, 16]\n"
     ]
    }
   ],
   "source": [
    "## list comprehension\n",
    "sq=[]\n",
    "for i in range(5):\n",
    "    sq.append(i*i)\n",
    "print(sq)"
   ]
  },
  {
   "cell_type": "code",
   "execution_count": 4,
   "id": "5bf2d8da-4a71-456d-b42e-254360245143",
   "metadata": {},
   "outputs": [
    {
     "name": "stdout",
     "output_type": "stream",
     "text": [
      "[0, 1, 4, 9, 16, 25, 36, 49, 64, 81]\n"
     ]
    }
   ],
   "source": [
    "sq=[i*i for i in range(10)]\n",
    "print(sq)"
   ]
  },
  {
   "cell_type": "code",
   "execution_count": 5,
   "id": "49f21bf6-2af3-47bb-9015-44e2d19ac749",
   "metadata": {},
   "outputs": [],
   "source": [
    "sq=[i*i for i in range(10) if i%2==0]"
   ]
  },
  {
   "cell_type": "code",
   "execution_count": 6,
   "id": "6e76883d-ddc2-423c-9c27-d969a7dbca41",
   "metadata": {},
   "outputs": [
    {
     "data": {
      "text/plain": [
       "[0, 4, 16, 36, 64]"
      ]
     },
     "execution_count": 6,
     "metadata": {},
     "output_type": "execute_result"
    }
   ],
   "source": [
    "sq"
   ]
  },
  {
   "cell_type": "code",
   "execution_count": 9,
   "id": "dea7c42f-134d-4cd9-8f7e-65a5c17f5d2d",
   "metadata": {},
   "outputs": [],
   "source": [
    "mul=[i*j for i in range(1,5) for j in range(1,10)]"
   ]
  },
  {
   "cell_type": "code",
   "execution_count": 10,
   "id": "be6a3d47-85ea-4f37-8453-80c2717b2c44",
   "metadata": {},
   "outputs": [
    {
     "name": "stdout",
     "output_type": "stream",
     "text": [
      "[1, 2, 3, 4, 5, 6, 7, 8, 9, 2, 4, 6, 8, 10, 12, 14, 16, 18, 3, 6, 9, 12, 15, 18, 21, 24, 27, 4, 8, 12, 16, 20, 24, 28, 32, 36]\n"
     ]
    }
   ],
   "source": [
    "print(mul)"
   ]
  },
  {
   "cell_type": "code",
   "execution_count": 12,
   "id": "eafcd313-3ea1-486e-8b15-39519070e4c1",
   "metadata": {},
   "outputs": [
    {
     "name": "stdout",
     "output_type": "stream",
     "text": [
      "hello my name is deepak vishwakarma.and i am 22 year old\n"
     ]
    }
   ],
   "source": [
    "def intro(name,age):\n",
    "    print(f\"hello my name is {name}.and i am {age} year old\")\n",
    "intro(\"deepak vishwakarma\",22)"
   ]
  },
  {
   "cell_type": "code",
   "execution_count": 15,
   "id": "8c142006-4655-4935-a2da-9ceddc5572b6",
   "metadata": {},
   "outputs": [
    {
     "name": "stdout",
     "output_type": "stream",
     "text": [
      "next year i am 23\n"
     ]
    }
   ],
   "source": [
    "age=22\n",
    "print(f\"next year i am {age+1}\")"
   ]
  },
  {
   "cell_type": "code",
   "execution_count": null,
   "id": "fc91948d-d950-4847-9bfc-a43acc3164b0",
   "metadata": {},
   "outputs": [],
   "source": [
    "class Solution(object):\n",
    "    def countBalls(self, lowLimit, highLimit):\n",
    "        \"\"\"\n",
    "        :type lowLimit: int\n",
    "        :type highLimit: int\n",
    "        :rtype: int\n",
    "        \"\"\"\n",
    "        dict=defaultdict{}"
   ]
  },
  {
   "cell_type": "code",
   "execution_count": 1,
   "id": "e5bae1b6-3a9f-4c46-ab6e-1e21e3d2a5aa",
   "metadata": {},
   "outputs": [
    {
     "name": "stdout",
     "output_type": "stream",
     "text": [
      "1\n",
      "2\n",
      "3\n",
      "4\n",
      "5\n",
      "6\n"
     ]
    }
   ],
   "source": [
    "## iterable vs iterator\n",
    "\n",
    "lst=[1,2,3,4,5,6]\n",
    "for i in lst:\n",
    "    print(i)"
   ]
  },
  {
   "cell_type": "code",
   "execution_count": 17,
   "id": "faf9e9af-c82e-46e0-84b6-6b2ecb1dd6e7",
   "metadata": {},
   "outputs": [],
   "source": [
    "iterator=iter(lst)"
   ]
  },
  {
   "cell_type": "code",
   "execution_count": 18,
   "id": "601a812e-1fa3-47bb-b6c8-190ab0cf03d2",
   "metadata": {},
   "outputs": [
    {
     "data": {
      "text/plain": [
       "<list_iterator at 0x2250217c220>"
      ]
     },
     "execution_count": 18,
     "metadata": {},
     "output_type": "execute_result"
    }
   ],
   "source": [
    "iterator"
   ]
  },
  {
   "cell_type": "code",
   "execution_count": 13,
   "id": "4b586d9f-1ba6-4457-9b12-75ad781c7322",
   "metadata": {},
   "outputs": [
    {
     "data": {
      "text/plain": [
       "1"
      ]
     },
     "execution_count": 13,
     "metadata": {},
     "output_type": "execute_result"
    }
   ],
   "source": [
    "next(iterator)"
   ]
  },
  {
   "cell_type": "code",
   "execution_count": 14,
   "id": "871158c9-77e9-4919-a97b-aaf3ac39d133",
   "metadata": {},
   "outputs": [
    {
     "data": {
      "text/plain": [
       "2"
      ]
     },
     "execution_count": 14,
     "metadata": {},
     "output_type": "execute_result"
    }
   ],
   "source": [
    "next(iterator)"
   ]
  },
  {
   "cell_type": "code",
   "execution_count": 15,
   "id": "2e76ee49-d007-4320-bbb6-1b4856fe4298",
   "metadata": {},
   "outputs": [
    {
     "data": {
      "text/plain": [
       "3"
      ]
     },
     "execution_count": 15,
     "metadata": {},
     "output_type": "execute_result"
    }
   ],
   "source": [
    "next(iterator)"
   ]
  },
  {
   "cell_type": "code",
   "execution_count": 19,
   "id": "79b817ea-9dab-44ca-a36b-f8920aff1363",
   "metadata": {},
   "outputs": [
    {
     "name": "stdout",
     "output_type": "stream",
     "text": [
      "1\n",
      "2\n",
      "3\n",
      "4\n",
      "5\n",
      "6\n"
     ]
    }
   ],
   "source": [
    "for it in iterator:\n",
    "    print(it)"
   ]
  },
  {
   "cell_type": "code",
   "execution_count": 27,
   "id": "1bce130c-c354-4239-8631-ed7a919bb2f5",
   "metadata": {},
   "outputs": [
    {
     "name": "stdout",
     "output_type": "stream",
     "text": [
      "this is brand:tata.and this is model of car:nano\n"
     ]
    }
   ],
   "source": [
    "class Car:\n",
    "    def __init__(self,brand,model):\n",
    "        self.brand=brand\n",
    "        self.model=model\n",
    "    def display_into(self):\n",
    "        print(f\"this is brand:{self.brand}.and this is model of car:{self.model}\")\n",
    "my_car=Car(\"tata\",\"nano\")\n",
    "my_car.display_into()"
   ]
  },
  {
   "cell_type": "code",
   "execution_count": null,
   "id": "24e48b20-5184-4619-a603-b0f2e846141f",
   "metadata": {},
   "outputs": [],
   "source": [
    "t = int(input())  \n",
    "for _ in range(t):\n",
    "    n = int(input())  \n",
    "    arr = []\n",
    "    d = {}\n",
    "\n",
    "    for _ in range(n):\n",
    "        k = list(map(int, input().split()))\n",
    "        k = k[1:]  \n",
    "        arr.append(k)\n",
    "\n",
    "        for i in k:\n",
    "            d[i] = d.get(i, 0) + 1  \n",
    "\n",
    "    found = False  \n",
    "\n",
    "    for i in arr:\n",
    "        ans = True\n",
    "        for j in i:\n",
    "            if d[j] <= 1:  \n",
    "                ans = False\n",
    "                break  \n",
    "        if ans:  \n",
    "            print(\"YES\")\n",
    "            found = True\n",
    "            break  \n",
    "\n",
    "    if not found:  \n",
    "        print(\"NO\")\n"
   ]
  },
  {
   "cell_type": "code",
   "execution_count": null,
   "id": "e4da6297-832f-476b-b2f3-abc0ab10c130",
   "metadata": {},
   "outputs": [],
   "source": []
  }
 ],
 "metadata": {
  "kernelspec": {
   "display_name": "Python 3 (ipykernel)",
   "language": "python",
   "name": "python3"
  },
  "language_info": {
   "codemirror_mode": {
    "name": "ipython",
    "version": 3
   },
   "file_extension": ".py",
   "mimetype": "text/x-python",
   "name": "python",
   "nbconvert_exporter": "python",
   "pygments_lexer": "ipython3",
   "version": "3.12.7"
  }
 },
 "nbformat": 4,
 "nbformat_minor": 5
}
