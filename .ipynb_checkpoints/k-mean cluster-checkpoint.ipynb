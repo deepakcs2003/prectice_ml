{
 "cells": [
  {
   "cell_type": "code",
   "execution_count": null,
   "id": "83b7a13d-432f-4efe-a642-9f8c35aa2d67",
   "metadata": {},
   "outputs": [],
   "source": [
    "from sklearn.cluster import KMeans\n",
    "import numpy as np\n",
    "import pandas as pd\n",
    "import seaborn as sns\n",
    "from matplotlib import pyplot as plt\n",
    "f\n",
    "%config Completer.use_jedi = False\n"
   ]
  },
  {
   "cell_type": "code",
   "execution_count": null,
   "id": "c1eea747-c01e-4fd5-a226-65bfa075823e",
   "metadata": {},
   "outputs": [],
   "source": [
    "df=pd.read_csv(\"income.csv\")\n",
    "df.head()"
   ]
  },
  {
   "cell_type": "code",
   "execution_count": null,
   "id": "a58c1777-46e0-40c7-aa9f-592f0ab0d922",
   "metadata": {},
   "outputs": [],
   "source": [
    "plt.scatter(df['Age'],df['Income($)'])"
   ]
  },
  {
   "cell_type": "code",
   "execution_count": null,
   "id": "296d3f1a-b78a-444c-96df-c1524b64956e",
   "metadata": {},
   "outputs": [],
   "source": [
    "km=KMeans(n_clusters=3)\n",
    "y_pred=km.fit_predict(df[['Age','Income($)']])\n",
    "y_pred\n",
    "df['cluster']=y_pred\n",
    "df.head()"
   ]
  },
  {
   "cell_type": "code",
   "execution_count": null,
   "id": "226ba9c7-9cf9-4fe7-b0dc-cd90f77dd5b8",
   "metadata": {},
   "outputs": [],
   "source": [
    "## yaha scaler achhi nahi hain income bahut hi jada hai aur age kam to \n",
    "## clustering acche se nahi hua hain iska maltab problem hain yaha to hum scalling karna hoga proper\n",
    "## scalling ke lite min-max ka use karenge\n",
    "df1 = df[df.cluster == 0]\n",
    "df2 = df[df.cluster == 1]\n",
    "df3 = df[df.cluster == 2]\n",
    "\n",
    "plt.scatter(df1['Age'], df1['Income($)'], color=\"green\", label=\"Cluster 0\")\n",
    "plt.scatter(df2['Age'], df2['Income($)'], color=\"red\", label=\"Cluster 1\")\n",
    "plt.scatter(df3['Age'], df3['Income($)'], color=\"blue\", label=\"Cluster 2\")\n",
    "\n",
    "plt.xlabel(\"Age\")\n",
    "plt.ylabel(\"Income\")\n",
    "plt.legend()\n",
    "plt.show()\n"
   ]
  },
  {
   "cell_type": "code",
   "execution_count": null,
   "id": "d4b3dc95-a165-4d42-bcff-e65c5878ef7f",
   "metadata": {},
   "outputs": [],
   "source": [
    "from sklearn.preprocessing import StandardScaler\n",
    "scaler=StandardScaler()\n",
    "df[[\"Age\",\"Income($)\"]] = scaler.fit_transform(df[[\"Age\",\"Income($)\"]]) \n",
    "df.head()\n",
    "Km=KMeans(n_clusters=3)\n",
    "y_predicted=km.fit_predict(df[['Age','Income($)']])\n",
    "y_predicted\n",
    "df['scaling_cluster']=y_predicted\n",
    "df.drop('cluster',axis='columns',inplace=True)\n",
    "df.head()"
   ]
  },
  {
   "cell_type": "code",
   "execution_count": null,
   "id": "72659802-01bc-432e-b5fd-5fbb9ad66dcc",
   "metadata": {},
   "outputs": [],
   "source": [
    "## yaha scaler achhi nahi hain income bahut hi jada hai aur age kam to \n",
    "## clustering acche se nahi hua hain iska maltab problem hain yaha to hum scalling karna hoga proper\n",
    "## scalling ke lite min-max ka use karenge\n",
    "df1 = df[df.scaling_cluster == 0]\n",
    "df2 = df[df.scaling_cluster == 1]\n",
    "df3 = df[df.scaling_cluster == 2]\n",
    "\n",
    "plt.scatter(df1['Age'], df1['Income($)'], color=\"green\", label=\"Cluster 0\")\n",
    "plt.scatter(df2['Age'], df2['Income($)'], color=\"red\", label=\"Cluster 1\")\n",
    "plt.scatter(df3['Age'], df3['Income($)'], color=\"blue\", label=\"Cluster 2\")\n",
    "\n",
    "plt.xlabel(\"Age\")\n",
    "plt.ylabel(\"Income\")\n",
    "plt.legend()\n",
    "plt.show()\n"
   ]
  },
  {
   "cell_type": "code",
   "execution_count": null,
   "id": "f318a686-54f0-4c81-b9fa-0e2b4fbab877",
   "metadata": {},
   "outputs": [],
   "source": [
    "K=range(1,11)\n",
    "sse=[]\n",
    "for k in K:\n",
    "    km=KMeans(n_clusters=k)\n",
    "    km.fit(df[['Age','Income($)']])\n",
    "    sse.append(km.inertia_)\n",
    "sse"
   ]
  },
  {
   "cell_type": "code",
   "execution_count": null,
   "id": "3e5f25c1-5189-40a3-8d4c-9491bb2c0c76",
   "metadata": {},
   "outputs": [],
   "source": [
    "plt.plot(K,sse)"
   ]
  },
  {
   "cell_type": "code",
   "execution_count": null,
   "id": "e1d1c118-2d40-4109-a580-cad157baf32c",
   "metadata": {},
   "outputs": [],
   "source": []
  }
 ],
 "metadata": {
  "kernelspec": {
   "display_name": "Python 3 (ipykernel)",
   "language": "python",
   "name": "python3"
  },
  "language_info": {
   "codemirror_mode": {
    "name": "ipython",
    "version": 3
   },
   "file_extension": ".py",
   "mimetype": "text/x-python",
   "name": "python",
   "nbconvert_exporter": "python",
   "pygments_lexer": "ipython3",
   "version": "3.12.7"
  }
 },
 "nbformat": 4,
 "nbformat_minor": 5
}
