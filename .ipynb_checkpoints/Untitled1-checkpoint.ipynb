{
 "cells": [
  {
   "cell_type": "code",
   "execution_count": 3,
   "id": "7c0711ea-4819-40b0-a589-13cf379d462f",
   "metadata": {},
   "outputs": [
    {
     "name": "stdout",
     "output_type": "stream",
     "text": [
      "hi deepak,nice to meet you\n",
      "hi subodh,nice to meet you\n"
     ]
    }
   ],
   "source": [
    "def greet(name=\"deepak\"):\n",
    "    print(f\"hi {name},nice to meet you\")\n",
    "greet()\n",
    "greet(\"subodh\")"
   ]
  },
  {
   "cell_type": "code",
   "execution_count": null,
   "id": "93546f37-e177-4aec-9bf0-38dbe54fe163",
   "metadata": {},
   "outputs": [],
   "source": [
    "def sum_val(args)"
   ]
  }
 ],
 "metadata": {
  "kernelspec": {
   "display_name": "Python 3 (ipykernel)",
   "language": "python",
   "name": "python3"
  },
  "language_info": {
   "codemirror_mode": {
    "name": "ipython",
    "version": 3
   },
   "file_extension": ".py",
   "mimetype": "text/x-python",
   "name": "python",
   "nbconvert_exporter": "python",
   "pygments_lexer": "ipython3",
   "version": "3.12.7"
  }
 },
 "nbformat": 4,
 "nbformat_minor": 5
}
