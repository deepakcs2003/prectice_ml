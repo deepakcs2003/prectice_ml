{
 "cells": [
  {
   "cell_type": "markdown",
   "id": "06b53745-9a0c-49b2-b2b1-8c8726074b5c",
   "metadata": {},
   "source": [
    "\n",
    "# 🌳 Decision Tree Classifier with the Iris Dataset\n",
    "\n",
    "## 📦 Step 1: Import Libraries\n",
    "\n",
    "```python\n",
    "import pandas as pd\n",
    "import numpy as np\n",
    "import matplotlib.pyplot as plt\n",
    "%matplotlib inline\n",
    "from sklearn.datasets import load_iris\n",
    "```\n",
    "\n",
    "We import:\n",
    "\n",
    "- **pandas** and **numpy** for data manipulation\n",
    "- **matplotlib.pyplot** for data visualization\n",
    "- `%matplotlib inline` to display plots inside the notebook\n",
    "- `load_iris` from sklearn's datasets to load a famous dataset for classification\n",
    "\n",
    "---\n",
    "\n",
    "## 🌼 Step 2: Load the Iris Dataset\n",
    "\n",
    "```python\n",
    "iris = load_iris()\n",
    "```\n",
    "\n",
    "- The Iris dataset is built into sklearn. It includes:\n",
    "  - 150 samples of iris flowers\n",
    "  - 4 features: sepal length, sepal width, petal length, and petal width\n",
    "  - 3 classes: Setosa, Versicolor, Virginica\n",
    "\n",
    "---\n",
    "\n",
    "## 🔍 Step 3: Explore the Data\n",
    "\n",
    "```python\n",
    "iris.data\n",
    "```\n",
    "\n",
    "This gives the feature values.\n",
    "\n",
    "```python\n",
    "iris.feature_names\n",
    "```\n",
    "\n",
    "Get names of the features (columns):\n",
    "\n",
    "```\n",
    "['sepal length (cm)', 'sepal width (cm)', 'petal length (cm)', 'petal width (cm)']\n",
    "```\n",
    "\n",
    "```python\n",
    "iris.target\n",
    "```\n",
    "\n",
    "Labels for each sample (0, 1, 2) corresponding to the three flower types.\n",
    "\n",
    "```python\n",
    "iris.target_names\n",
    "```\n",
    "\n",
    "Gives the names of the target labels:\n",
    "\n",
    "```\n",
    "['setosa', 'versicolor', 'virginica']\n",
    "```\n",
    "\n",
    "---\n",
    "\n",
    "## 🗃️ Step 4: Convert to a DataFrame\n",
    "\n",
    "```python\n",
    "df = pd.DataFrame(iris.data, columns=iris.feature_names)\n",
    "df['target'] = iris.target\n",
    "df.head()\n",
    "```\n",
    "\n",
    "- Converts the dataset into a Pandas DataFrame\n",
    "- Adds the target labels\n",
    "- Shows first 5 rows using `head()`\n",
    "\n",
    "---\n",
    "\n",
    "## 📊 Step 5: Visualize the Data\n",
    "\n",
    "```python\n",
    "plt.scatter(df['sepal length (cm)'], df['sepal width (cm)'], c=df['target'])\n",
    "```\n",
    "\n",
    "- Scatter plot of Sepal Length vs Sepal Width\n",
    "- Points are colored by their target class\n",
    "\n",
    "---\n",
    "\n",
    "## 🧠 Step 6: Train a Decision Tree Classifier\n",
    "\n",
    "```python\n",
    "from sklearn.model_selection import train_test_split\n",
    "from sklearn.tree import DecisionTreeClassifier\n",
    "```\n",
    "\n",
    "Split the dataset and train the model:\n",
    "\n",
    "```python\n",
    "X_train, X_test, y_train, y_test = train_test_split(df.drop(['target'], axis=1), df['target'], test_size=0.2)\n",
    "model = DecisionTreeClassifier()\n",
    "model.fit(X_train, y_train)\n",
    "```\n",
    "\n",
    "- `train_test_split`: splits the data into training and testing sets\n",
    "- `DecisionTreeClassifier`: creates a classifier object\n",
    "- `fit()`: trains the model\n",
    "\n",
    "---\n",
    "\n",
    "## ✅ Step 7: Evaluate the Model\n",
    "\n",
    "```python\n",
    "model.score(X_test, y_test)\n",
    "```\n",
    "\n",
    "- Evaluates the model accuracy on test data\n",
    "\n",
    "---\n",
    "\n",
    "## 🌲 Step 8: Visualize the Tree\n",
    "\n",
    "```python\n",
    "from sklearn.tree import plot_tree\n",
    "plt.figure(figsize=(15,10))\n",
    "plot_tree(model, filled=True, feature_names=iris.feature_names, class_names=iris.target_names)\n",
    "```\n",
    "\n",
    "- Plots the decision tree\n",
    "- `filled=True` shows color-coded nodes\n",
    "- Labels nodes with feature names and class names\n"
   ]
  },
  {
   "cell_type": "markdown",
   "id": "735c7379-6136-4cfa-bacd-58d12a2d4788",
   "metadata": {},
   "source": [
    "import pandas as pd\n",
    "import numpy as np\n",
    "import matplotlib.pyplot as plt\n",
    "%matplotlib inline\n",
    "from sklearn.datasets import load_iris\n"
   ]
  },
  {
   "cell_type": "code",
   "execution_count": null,
   "id": "9d463e96-e09c-4160-9863-e395b52abac1",
   "metadata": {},
   "outputs": [],
   "source": [
    "iris=load_iris()"
   ]
  },
  {
   "cell_type": "code",
   "execution_count": null,
   "id": "29839670-ed3e-4e4a-8e8f-b0ba4f3fe739",
   "metadata": {},
   "outputs": [],
   "source": [
    "iris.data"
   ]
  },
  {
   "cell_type": "code",
   "execution_count": null,
   "id": "8ab5e9b1-7409-40dc-83a2-bb4a64604d3f",
   "metadata": {},
   "outputs": [],
   "source": [
    "iris.target"
   ]
  },
  {
   "cell_type": "code",
   "execution_count": null,
   "id": "70e6a342-c700-486a-8c68-8578dee0207e",
   "metadata": {},
   "outputs": [],
   "source": [
    "import seaborn as sns"
   ]
  },
  {
   "cell_type": "code",
   "execution_count": null,
   "id": "d66c8d72-f536-4eb6-b275-ffb52fbd6789",
   "metadata": {},
   "outputs": [],
   "source": [
    "df=sns.load_dataset(\"iris\")\n",
    "df.head()"
   ]
  },
  {
   "cell_type": "code",
   "execution_count": null,
   "id": "d7ba87a4-5550-4ada-a9a2-c6c0892eebe6",
   "metadata": {},
   "outputs": [],
   "source": [
    "X=df.drop(\"species\",axis=1)\n",
    "y=iris.target"
   ]
  },
  {
   "cell_type": "code",
   "execution_count": null,
   "id": "c74965ab-9ee0-4339-8206-55a1df6c3858",
   "metadata": {},
   "outputs": [],
   "source": [
    "from sklearn.model_selection import train_test_split\n",
    "X_train, X_test, y_train, y_test = train_test_split(X, y, test_size=0.33, random_state=42)"
   ]
  },
  {
   "cell_type": "code",
   "execution_count": null,
   "id": "f55555fb-643a-4445-9295-6b603043e39e",
   "metadata": {},
   "outputs": [],
   "source": [
    "## postpruning \n",
    "from sklearn.tree import DecisionTreeClassifier\n",
    "clf = DecisionTreeClassifier(random_state=0,max_depth=2)\n",
    "clf.fit(X_train,y_train)"
   ]
  },
  {
   "cell_type": "code",
   "execution_count": null,
   "id": "9a1f9417-0d6b-4a77-b0ab-cea480cf9999",
   "metadata": {},
   "outputs": [],
   "source": [
    "from sklearn import tree\n",
    "plt.figure(figsize=(15,10))\n",
    "tree.plot_tree(clf,filled=True)\n",
    "plt.show()"
   ]
  },
  {
   "cell_type": "code",
   "execution_count": null,
   "id": "6bbcfc5b-8631-4c1c-b996-bd4f63bb536b",
   "metadata": {},
   "outputs": [],
   "source": [
    "y_pred=clf.predict(X_test)\n",
    "y_pred"
   ]
  },
  {
   "cell_type": "code",
   "execution_count": null,
   "id": "af979e78-2f95-4063-8017-dcec65e7d016",
   "metadata": {},
   "outputs": [],
   "source": [
    "from sklearn.metrics import accuracy_score,classification_report\n",
    "score=accuracy_score(y_pred,y_test)\n",
    "score"
   ]
  },
  {
   "cell_type": "code",
   "execution_count": null,
   "id": "9f80dd48-0051-4fb8-91f8-a42030b900ba",
   "metadata": {},
   "outputs": [],
   "source": [
    "print(classification_report(y_pred,y_test))"
   ]
  },
  {
   "cell_type": "code",
   "execution_count": null,
   "id": "bf128993-7251-4b3c-b601-359c6ad3948b",
   "metadata": {},
   "outputs": [],
   "source": [
    "parameter={\n",
    "    'criterion':['gini', 'entropy', 'log_loss'],\n",
    "    'splitter':['best', 'random'],\n",
    "    'max_depth':[1,2,3,4,5,6],\n",
    "    'max_features':['auto','srqt','log2']\n",
    "}"
   ]
  },
  {
   "cell_type": "code",
   "execution_count": null,
   "id": "548974f1-44d3-4b32-9ea8-821b7286cf88",
   "metadata": {},
   "outputs": [],
   "source": [
    "from sklearn.model_selection import GridSearchCV\n",
    "clf=DecisionTreeClassifier(max_depth=2)\n",
    "cv=GridSearchCV(clf,parameter,cv=5,scoring='accuracy')\n",
    "cv.fit(X_train,y_train)"
   ]
  },
  {
   "cell_type": "code",
   "execution_count": null,
   "id": "0cae1284-2b05-4a04-877c-d485392f15e8",
   "metadata": {},
   "outputs": [],
   "source": [
    "cv.best_params_"
   ]
  },
  {
   "cell_type": "code",
   "execution_count": null,
   "id": "7726dd4b-b27c-4e81-96fa-499155c2e2ea",
   "metadata": {},
   "outputs": [],
   "source": [
    "y_pred=cv.predict(X_test)"
   ]
  },
  {
   "cell_type": "code",
   "execution_count": null,
   "id": "4473a1c1-e3e5-445e-bbb2-27b606404423",
   "metadata": {},
   "outputs": [],
   "source": [
    "accuracy_score(y_pred,y_test)"
   ]
  },
  {
   "cell_type": "code",
   "execution_count": null,
   "id": "3585b3c5-23e4-4cb3-97b3-1465e98e0617",
   "metadata": {},
   "outputs": [],
   "source": []
  }
 ],
 "metadata": {
  "kernelspec": {
   "display_name": "Python 3 (ipykernel)",
   "language": "python",
   "name": "python3"
  },
  "language_info": {
   "codemirror_mode": {
    "name": "ipython",
    "version": 3
   },
   "file_extension": ".py",
   "mimetype": "text/x-python",
   "name": "python",
   "nbconvert_exporter": "python",
   "pygments_lexer": "ipython3",
   "version": "3.12.7"
  }
 },
 "nbformat": 4,
 "nbformat_minor": 5
}
