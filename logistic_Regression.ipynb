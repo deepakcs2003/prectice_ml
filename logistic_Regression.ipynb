{
 "cells": [
  {
   "cell_type": "code",
   "execution_count": null,
   "id": "0e427386-d966-4c3f-b734-ec0969c7a764",
   "metadata": {},
   "outputs": [],
   "source": [
    "import pandas as pd\n",
    "import seaborn as sns\n",
    "import numpy as np"
   ]
  },
  {
   "cell_type": "code",
   "execution_count": null,
   "id": "0b7f4ab8-61a9-49bd-ab02-6821965be864",
   "metadata": {},
   "outputs": [],
   "source": [
    "df=sns.load_dataset(\"iris\")\n",
    "df.head() #show the data"
   ]
  },
  {
   "cell_type": "code",
   "execution_count": null,
   "id": "c3b70a06-ea98-4280-b237-609808d60ae3",
   "metadata": {},
   "outputs": [],
   "source": [
    "df[\"species\"].unique()"
   ]
  },
  {
   "cell_type": "code",
   "execution_count": null,
   "id": "1062d326-e6a1-41f9-8939-21cb16ad0c48",
   "metadata": {},
   "outputs": [],
   "source": [
    "df.isnull().sum()"
   ]
  },
  {
   "cell_type": "code",
   "execution_count": null,
   "id": "fe35e3cc-4cbc-4f4b-9ff4-0dfd913d1d74",
   "metadata": {},
   "outputs": [],
   "source": [
    "# yaha par maine setosa vali species ko nikal diya hu data set se or df main store kiya hu \n",
    "df = df[df['species'] != 'setosa']"
   ]
  },
  {
   "cell_type": "code",
   "execution_count": null,
   "id": "baf1f5d0-c2ca-461b-8574-91f8b3545ff9",
   "metadata": {},
   "outputs": [],
   "source": [
    "# ab maine species ko direct hum string form main naho de sakte model ko \n",
    "# to hume usko numerical value assign karne padegi to sabse asan tarikha \n",
    "# hai ki hum map ka use kare\n",
    "df['species'] = df['species'].map({'versicolor': 0, 'virginica': 1})"
   ]
  },
  {
   "cell_type": "markdown",
   "id": "ecd56853-8f3d-4419-aeb2-0175d7360d78",
   "metadata": {},
   "source": [
    "### Splitting the Dataset into Independent and Dependent Features\n",
    "\n",
    "Hum apne dataset ko **independent features (X)** aur **dependent feature (y)** mein split kar rahe hain.\n",
    "\n",
    "- **Independent Features (X)**: Ye woh features hain jo hum apne machine learning model ko input dene ke liye use karte hain. Ye generally dataset ke saare columns hote hain, bas **last column** ko chhode ke.\n",
    "- **Dependent Feature (y)**: Ye woh feature hai jise hum predict karna chahte hain. Ye typically dataset ka **last column** hota hai.\n",
    "\n",
    "### Code Explanation:\n",
    "1. **X = df.iloc[:, :-1]**:\n",
    "   - `iloc`: Ye method index-based access deta hai.\n",
    "   - `:` (before `,`): Sabhi rows ko select karna.\n",
    "   - `:-1`: Sabhi columns ko lekin **last column** ko chhode ke.\n",
    "\n",
    "2. **y = df.iloc[:, -1]**:\n",
    "   - `-1`: Ye last column ko select karta hai.\n",
    "\n",
    "Is tarah se hum dataset ko independent (X) aur dependent (y) features mein divide kar lete hain.\n",
    "\n",
    "#### Summary:\n",
    "- **X**: Independent features jo model ko train karne ke liye input ke roop mein diye jaate hain.\n",
    "- **y**: Dependent feature jise hum predict karte hain.\n"
   ]
  },
  {
   "cell_type": "code",
   "execution_count": null,
   "id": "deb78d8c-3269-4a5b-a65e-c5504a19139b",
   "metadata": {},
   "outputs": [],
   "source": [
    "### split datset into independent and dependent feature\n",
    "# iska [:,:-1] maltb hain ki sare column lene hain last ko chode ke\n",
    "X=df.iloc[:,:-1]\n",
    "y=df.iloc[:,-1]"
   ]
  },
  {
   "cell_type": "code",
   "execution_count": null,
   "id": "05d9f103-05e1-4f13-a9aa-257aafd68c47",
   "metadata": {},
   "outputs": [],
   "source": [
    "df.head()"
   ]
  },
  {
   "cell_type": "code",
   "execution_count": null,
   "id": "affeb2df-017a-4986-888c-e919278b9240",
   "metadata": {},
   "outputs": [],
   "source": [
    "X"
   ]
  },
  {
   "cell_type": "code",
   "execution_count": null,
   "id": "d389576e-0fb6-47d7-93e0-a8e784500c15",
   "metadata": {},
   "outputs": [],
   "source": [
    "y"
   ]
  },
  {
   "cell_type": "markdown",
   "id": "1b4a86db-ee81-4007-a76d-2fb3e960199c",
   "metadata": {},
   "source": [
    "### Splitting the Data into Training and Testing Sets\n",
    "\n",
    "Hum **X_train** aur **y_train** ka use karenge apne model ko train karne ke liye, aur **X_test** aur **y_test** ka use model ke performance ko evaluate karne ke liye.\n",
    "\n",
    "- **X_train**: Ye independent features ka training data hoga.\n",
    "- **y_train**: Ye dependent feature ka training data hoga.\n",
    "- **X_test**: Ye independent features ka testing data hoga, jisme hum apne trained model ka performance evaluate karenge.\n",
    "- **y_test**: Ye dependent feature ka testing data hoga, jise hum model ke predictions ke saath compare karenge."
   ]
  },
  {
   "cell_type": "code",
   "execution_count": null,
   "id": "60c00581-c2a7-4d58-ba9f-817deca71eb2",
   "metadata": {},
   "outputs": [],
   "source": [
    "# hum X_train and y_train ka use karenege model of train karne ke liye \n",
    "from sklearn.model_selection import train_test_split\n",
    "X_train, X_test, y_train, y_test = train_test_split(\n",
    "    X, y, test_size=0.25, random_state=42)"
   ]
  },
  {
   "cell_type": "code",
   "execution_count": null,
   "id": "a6332623-2e35-4b6a-9acf-c4085857e679",
   "metadata": {},
   "outputs": [],
   "source": [
    "from sklearn.linear_model import LogisticRegression\n",
    "classifier=LogisticRegression()"
   ]
  },
  {
   "cell_type": "markdown",
   "id": "18c4f981-7d42-4900-9050-c212b04960f1",
   "metadata": {},
   "source": [
    "### Using GridSearchCV for Hyperparameter Tuning\n",
    "\n",
    "**GridSearchCV** ka use hum **model ke hyperparameters** ko optimize karne ke liye karte hain. Ye function different combinations of hyperparameters try karta hai, aur har combination par model ko train karke best performing model ko select karta hai.\n",
    "\n",
    "- **Hyperparameters**: Ye wo parameters hote hain jo model ke behavior ko control karte hain. Jaise ki regularization strength (penalty) aur iteration count (max_iter).\n",
    "- **Cross-Validation**: GridSearchCV multiple splits (folds) par model ko evaluate karta hai, taaki humara model overfitting na kare aur generalize kar sake.\n",
    "\n",
    "### Code Explanation:\n",
    "```python\n",
    "from sklearn.model_selection import GridSearchCV\n",
    "\n",
    "parameter = {'penalty': ['l1', 'l2', 'elasticnet'], \n",
    "             'C': [1, 2, 3, 4, 5, 6, 7, 8, 9, 10, 20, 30, 40, 50], \n",
    "             'max_iter': [100, 200, 300]}\n",
    "\n",
    "classifier_regression = GridSearchCV(classifier, param_grid=parameter, scoring='accuracy', cv=5)\n"
   ]
  },
  {
   "cell_type": "code",
   "execution_count": null,
   "id": "417c16bc-078a-4f65-94e5-f9f4c53cad45",
   "metadata": {},
   "outputs": [],
   "source": [
    "#GridSearchCV different combinations of hyperparameters try karta hai,\n",
    "#har combination pe model train karta hai, aur jo sabse best perform karta hai usse final model bana deta hai.\n",
    "from sklearn.model_selection import GridSearchCV\n",
    "parameter={'penalty':['l1','l2','elasticnet'],'C':[1,2,3,4,5,6,7,8,9,10,20,30,40,50],'max_iter':[100,200,300]}\n",
    "classifier_regression=GridSearchCV(classifier,param_grid=parameter,scoring='accuracy',cv=5)"
   ]
  },
  {
   "cell_type": "code",
   "execution_count": null,
   "id": "7131f009-3e6d-45f1-a302-fcdc6fca8831",
   "metadata": {},
   "outputs": [],
   "source": [
    "classifier_regression.fit(X_train,y_train)"
   ]
  },
  {
   "cell_type": "code",
   "execution_count": null,
   "id": "67f100ce-c891-4fcc-badb-92768a41571c",
   "metadata": {},
   "outputs": [],
   "source": [
    "print(classifier_regression.best_params_)"
   ]
  },
  {
   "cell_type": "code",
   "execution_count": null,
   "id": "57972c1b-c628-4046-850a-e2be273eeacd",
   "metadata": {},
   "outputs": [],
   "source": [
    "print(classifier_regression.best_score_)"
   ]
  },
  {
   "cell_type": "code",
   "execution_count": null,
   "id": "b7aebd0a-cf87-4e3c-b969-93ebe00ff674",
   "metadata": {},
   "outputs": [],
   "source": [
    "#prediction\n",
    "y_pred=classifier_regression.predict(X_test)"
   ]
  },
  {
   "cell_type": "code",
   "execution_count": null,
   "id": "589a860d-417c-4859-85f8-0671cb475b02",
   "metadata": {},
   "outputs": [],
   "source": [
    "## accuracy score\n",
    "from sklearn.metrics import accuracy_score,classification_report\n",
    "score=accuracy_score(y_pred,y_test)\n",
    "print(score)"
   ]
  },
  {
   "cell_type": "code",
   "execution_count": null,
   "id": "92885c66-a9a0-45ed-9352-45458d341cc8",
   "metadata": {},
   "outputs": [],
   "source": [
    "## clssification_report\n",
    "print(classification_report(y_pred,y_test))"
   ]
  },
  {
   "cell_type": "code",
   "execution_count": null,
   "id": "3d2d51d5-8cde-4860-b00c-a871d5a87101",
   "metadata": {},
   "outputs": [],
   "source": [
    "sns.pairplot(df,hue='species')"
   ]
  },
  {
   "cell_type": "code",
   "execution_count": null,
   "id": "398e4a80-4916-42a0-84fe-03799f07a157",
   "metadata": {},
   "outputs": [],
   "source": [
    "## if we want to see the direct correction \n",
    "df.corr()"
   ]
  },
  {
   "cell_type": "code",
   "execution_count": null,
   "id": "bd6d5bd9-702e-4cd8-9ec4-38169ee2b673",
   "metadata": {},
   "outputs": [],
   "source": []
  }
 ],
 "metadata": {
  "kernelspec": {
   "display_name": "Python 3 (ipykernel)",
   "language": "python",
   "name": "python3"
  },
  "language_info": {
   "codemirror_mode": {
    "name": "ipython",
    "version": 3
   },
   "file_extension": ".py",
   "mimetype": "text/x-python",
   "name": "python",
   "nbconvert_exporter": "python",
   "pygments_lexer": "ipython3",
   "version": "3.12.7"
  }
 },
 "nbformat": 4,
 "nbformat_minor": 5
}
