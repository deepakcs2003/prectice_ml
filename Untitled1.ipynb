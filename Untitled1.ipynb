{
 "cells": [
  {
   "cell_type": "code",
   "execution_count": 3,
   "id": "7c0711ea-4819-40b0-a589-13cf379d462f",
   "metadata": {},
   "outputs": [
    {
     "name": "stdout",
     "output_type": "stream",
     "text": [
      "hi deepak,nice to meet you\n",
      "hi subodh,nice to meet you\n"
     ]
    }
   ],
   "source": [
    "def greet(name=\"deepak\"):\n",
    "    print(f\"hi {name},nice to meet you\")\n",
    "greet()\n",
    "greet(\"subodh\")"
   ]
  },
  {
   "cell_type": "code",
   "execution_count": 5,
   "id": "93546f37-e177-4aec-9bf0-38dbe54fe163",
   "metadata": {},
   "outputs": [
    {
     "name": "stdout",
     "output_type": "stream",
     "text": [
      "15\n"
     ]
    }
   ],
   "source": [
    "def sum_val(*args):\n",
    "    return sum(args)\n",
    "print(sum_val(1,2,3,4,5))"
   ]
  },
  {
   "cell_type": "code",
   "execution_count": 9,
   "id": "618ac2df-a793-42c7-be2a-756ffe61d585",
   "metadata": {},
   "outputs": [
    {
     "name": "stdout",
     "output_type": "stream",
     "text": [
      "hello name,your age is this deepak\n",
      "hello age,your age is this 20\n",
      "hello adress,your age is this mumbai\n",
      "hello college,your age is this wce\n"
     ]
    }
   ],
   "source": [
    "def details(**kwargs):\n",
    "    for key,val in kwargs.items():\n",
    "        print(f\"hello {key},your age is this {val}\")\n",
    "details(name=\"deepak\",age=20,adress=\"mumbai\",college=\"wce\")"
   ]
  },
  {
   "cell_type": "code",
   "execution_count": 17,
   "id": "78c6a28f-e967-42fe-9a08-2d3d1d4e7208",
   "metadata": {},
   "outputs": [
    {
     "name": "stdout",
     "output_type": "stream",
     "text": [
      "[1, 4, 9, 16, 25, 36]\n"
     ]
    }
   ],
   "source": [
    "lst=[1,2,3,4,5,6]\n",
    "def sqr(a):\n",
    "    return a**2\n",
    "ans=map(sqr,lst)\n",
    "print(list(ans))"
   ]
  },
  {
   "cell_type": "code",
   "execution_count": null,
   "id": "17914da6-0500-4fb1-9072-5ec0356e072d",
   "metadata": {},
   "outputs": [],
   "source": []
  }
 ],
 "metadata": {
  "kernelspec": {
   "display_name": "Python 3 (ipykernel)",
   "language": "python",
   "name": "python3"
  },
  "language_info": {
   "codemirror_mode": {
    "name": "ipython",
    "version": 3
   },
   "file_extension": ".py",
   "mimetype": "text/x-python",
   "name": "python",
   "nbconvert_exporter": "python",
   "pygments_lexer": "ipython3",
   "version": "3.12.7"
  }
 },
 "nbformat": 4,
 "nbformat_minor": 5
}
