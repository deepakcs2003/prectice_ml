{
 "cells": [
  {
   "cell_type": "code",
   "execution_count": null,
   "id": "a46cd3a6-7bc0-461e-a390-93aa611861b3",
   "metadata": {},
   "outputs": [],
   "source": []
  }
 ],
 "metadata": {
  "kernelspec": {
   "display_name": "",
   "name": ""
  },
  "language_info": {
   "name": ""
  }
 },
 "nbformat": 4,
 "nbformat_minor": 5
}
